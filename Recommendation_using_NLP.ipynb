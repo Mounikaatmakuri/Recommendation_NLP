{
  "nbformat": 4,
  "nbformat_minor": 0,
  "metadata": {
    "colab": {
      "provenance": []
    },
    "kernelspec": {
      "name": "python3",
      "display_name": "Python 3"
    },
    "language_info": {
      "name": "python"
    }
  },
  "cells": [
    {
      "cell_type": "code",
      "execution_count": 71,
      "metadata": {
        "colab": {
          "base_uri": "https://localhost:8080/",
          "height": 206
        },
        "id": "qz08jjWNYaTF",
        "outputId": "657ecfc8-0420-4ae2-824f-40023ef7a0ed"
      },
      "outputs": [
        {
          "output_type": "execute_result",
          "data": {
            "text/plain": [
              "                    title                                               text\n",
              "0           Python Basics                  Python is a programming language.\n",
              "1  Machine Learning Intro  Machine learning allows computers to learn fro...\n",
              "2   Data Science Overview  Data science involves analyzing and interpreti...\n",
              "3     Deep Learning Guide  Deep learning uses neural networks to model co...\n",
              "4     Web Development 101  Web development includes building websites and..."
            ],
            "text/html": [
              "\n",
              "  <div id=\"df-758aec44-3bec-4518-9d32-393009496924\" class=\"colab-df-container\">\n",
              "    <div>\n",
              "<style scoped>\n",
              "    .dataframe tbody tr th:only-of-type {\n",
              "        vertical-align: middle;\n",
              "    }\n",
              "\n",
              "    .dataframe tbody tr th {\n",
              "        vertical-align: top;\n",
              "    }\n",
              "\n",
              "    .dataframe thead th {\n",
              "        text-align: right;\n",
              "    }\n",
              "</style>\n",
              "<table border=\"1\" class=\"dataframe\">\n",
              "  <thead>\n",
              "    <tr style=\"text-align: right;\">\n",
              "      <th></th>\n",
              "      <th>title</th>\n",
              "      <th>text</th>\n",
              "    </tr>\n",
              "  </thead>\n",
              "  <tbody>\n",
              "    <tr>\n",
              "      <th>0</th>\n",
              "      <td>Python Basics</td>\n",
              "      <td>Python is a programming language.</td>\n",
              "    </tr>\n",
              "    <tr>\n",
              "      <th>1</th>\n",
              "      <td>Machine Learning Intro</td>\n",
              "      <td>Machine learning allows computers to learn fro...</td>\n",
              "    </tr>\n",
              "    <tr>\n",
              "      <th>2</th>\n",
              "      <td>Data Science Overview</td>\n",
              "      <td>Data science involves analyzing and interpreti...</td>\n",
              "    </tr>\n",
              "    <tr>\n",
              "      <th>3</th>\n",
              "      <td>Deep Learning Guide</td>\n",
              "      <td>Deep learning uses neural networks to model co...</td>\n",
              "    </tr>\n",
              "    <tr>\n",
              "      <th>4</th>\n",
              "      <td>Web Development 101</td>\n",
              "      <td>Web development includes building websites and...</td>\n",
              "    </tr>\n",
              "  </tbody>\n",
              "</table>\n",
              "</div>\n",
              "    <div class=\"colab-df-buttons\">\n",
              "\n",
              "  <div class=\"colab-df-container\">\n",
              "    <button class=\"colab-df-convert\" onclick=\"convertToInteractive('df-758aec44-3bec-4518-9d32-393009496924')\"\n",
              "            title=\"Convert this dataframe to an interactive table.\"\n",
              "            style=\"display:none;\">\n",
              "\n",
              "  <svg xmlns=\"http://www.w3.org/2000/svg\" height=\"24px\" viewBox=\"0 -960 960 960\">\n",
              "    <path d=\"M120-120v-720h720v720H120Zm60-500h600v-160H180v160Zm220 220h160v-160H400v160Zm0 220h160v-160H400v160ZM180-400h160v-160H180v160Zm440 0h160v-160H620v160ZM180-180h160v-160H180v160Zm440 0h160v-160H620v160Z\"/>\n",
              "  </svg>\n",
              "    </button>\n",
              "\n",
              "  <style>\n",
              "    .colab-df-container {\n",
              "      display:flex;\n",
              "      gap: 12px;\n",
              "    }\n",
              "\n",
              "    .colab-df-convert {\n",
              "      background-color: #E8F0FE;\n",
              "      border: none;\n",
              "      border-radius: 50%;\n",
              "      cursor: pointer;\n",
              "      display: none;\n",
              "      fill: #1967D2;\n",
              "      height: 32px;\n",
              "      padding: 0 0 0 0;\n",
              "      width: 32px;\n",
              "    }\n",
              "\n",
              "    .colab-df-convert:hover {\n",
              "      background-color: #E2EBFA;\n",
              "      box-shadow: 0px 1px 2px rgba(60, 64, 67, 0.3), 0px 1px 3px 1px rgba(60, 64, 67, 0.15);\n",
              "      fill: #174EA6;\n",
              "    }\n",
              "\n",
              "    .colab-df-buttons div {\n",
              "      margin-bottom: 4px;\n",
              "    }\n",
              "\n",
              "    [theme=dark] .colab-df-convert {\n",
              "      background-color: #3B4455;\n",
              "      fill: #D2E3FC;\n",
              "    }\n",
              "\n",
              "    [theme=dark] .colab-df-convert:hover {\n",
              "      background-color: #434B5C;\n",
              "      box-shadow: 0px 1px 3px 1px rgba(0, 0, 0, 0.15);\n",
              "      filter: drop-shadow(0px 1px 2px rgba(0, 0, 0, 0.3));\n",
              "      fill: #FFFFFF;\n",
              "    }\n",
              "  </style>\n",
              "\n",
              "    <script>\n",
              "      const buttonEl =\n",
              "        document.querySelector('#df-758aec44-3bec-4518-9d32-393009496924 button.colab-df-convert');\n",
              "      buttonEl.style.display =\n",
              "        google.colab.kernel.accessAllowed ? 'block' : 'none';\n",
              "\n",
              "      async function convertToInteractive(key) {\n",
              "        const element = document.querySelector('#df-758aec44-3bec-4518-9d32-393009496924');\n",
              "        const dataTable =\n",
              "          await google.colab.kernel.invokeFunction('convertToInteractive',\n",
              "                                                    [key], {});\n",
              "        if (!dataTable) return;\n",
              "\n",
              "        const docLinkHtml = 'Like what you see? Visit the ' +\n",
              "          '<a target=\"_blank\" href=https://colab.research.google.com/notebooks/data_table.ipynb>data table notebook</a>'\n",
              "          + ' to learn more about interactive tables.';\n",
              "        element.innerHTML = '';\n",
              "        dataTable['output_type'] = 'display_data';\n",
              "        await google.colab.output.renderOutput(dataTable, element);\n",
              "        const docLink = document.createElement('div');\n",
              "        docLink.innerHTML = docLinkHtml;\n",
              "        element.appendChild(docLink);\n",
              "      }\n",
              "    </script>\n",
              "  </div>\n",
              "\n",
              "\n",
              "    <div id=\"df-c22e7819-fca4-4c71-88c6-ab56c80facd9\">\n",
              "      <button class=\"colab-df-quickchart\" onclick=\"quickchart('df-c22e7819-fca4-4c71-88c6-ab56c80facd9')\"\n",
              "                title=\"Suggest charts\"\n",
              "                style=\"display:none;\">\n",
              "\n",
              "<svg xmlns=\"http://www.w3.org/2000/svg\" height=\"24px\"viewBox=\"0 0 24 24\"\n",
              "     width=\"24px\">\n",
              "    <g>\n",
              "        <path d=\"M19 3H5c-1.1 0-2 .9-2 2v14c0 1.1.9 2 2 2h14c1.1 0 2-.9 2-2V5c0-1.1-.9-2-2-2zM9 17H7v-7h2v7zm4 0h-2V7h2v10zm4 0h-2v-4h2v4z\"/>\n",
              "    </g>\n",
              "</svg>\n",
              "      </button>\n",
              "\n",
              "<style>\n",
              "  .colab-df-quickchart {\n",
              "      --bg-color: #E8F0FE;\n",
              "      --fill-color: #1967D2;\n",
              "      --hover-bg-color: #E2EBFA;\n",
              "      --hover-fill-color: #174EA6;\n",
              "      --disabled-fill-color: #AAA;\n",
              "      --disabled-bg-color: #DDD;\n",
              "  }\n",
              "\n",
              "  [theme=dark] .colab-df-quickchart {\n",
              "      --bg-color: #3B4455;\n",
              "      --fill-color: #D2E3FC;\n",
              "      --hover-bg-color: #434B5C;\n",
              "      --hover-fill-color: #FFFFFF;\n",
              "      --disabled-bg-color: #3B4455;\n",
              "      --disabled-fill-color: #666;\n",
              "  }\n",
              "\n",
              "  .colab-df-quickchart {\n",
              "    background-color: var(--bg-color);\n",
              "    border: none;\n",
              "    border-radius: 50%;\n",
              "    cursor: pointer;\n",
              "    display: none;\n",
              "    fill: var(--fill-color);\n",
              "    height: 32px;\n",
              "    padding: 0;\n",
              "    width: 32px;\n",
              "  }\n",
              "\n",
              "  .colab-df-quickchart:hover {\n",
              "    background-color: var(--hover-bg-color);\n",
              "    box-shadow: 0 1px 2px rgba(60, 64, 67, 0.3), 0 1px 3px 1px rgba(60, 64, 67, 0.15);\n",
              "    fill: var(--button-hover-fill-color);\n",
              "  }\n",
              "\n",
              "  .colab-df-quickchart-complete:disabled,\n",
              "  .colab-df-quickchart-complete:disabled:hover {\n",
              "    background-color: var(--disabled-bg-color);\n",
              "    fill: var(--disabled-fill-color);\n",
              "    box-shadow: none;\n",
              "  }\n",
              "\n",
              "  .colab-df-spinner {\n",
              "    border: 2px solid var(--fill-color);\n",
              "    border-color: transparent;\n",
              "    border-bottom-color: var(--fill-color);\n",
              "    animation:\n",
              "      spin 1s steps(1) infinite;\n",
              "  }\n",
              "\n",
              "  @keyframes spin {\n",
              "    0% {\n",
              "      border-color: transparent;\n",
              "      border-bottom-color: var(--fill-color);\n",
              "      border-left-color: var(--fill-color);\n",
              "    }\n",
              "    20% {\n",
              "      border-color: transparent;\n",
              "      border-left-color: var(--fill-color);\n",
              "      border-top-color: var(--fill-color);\n",
              "    }\n",
              "    30% {\n",
              "      border-color: transparent;\n",
              "      border-left-color: var(--fill-color);\n",
              "      border-top-color: var(--fill-color);\n",
              "      border-right-color: var(--fill-color);\n",
              "    }\n",
              "    40% {\n",
              "      border-color: transparent;\n",
              "      border-right-color: var(--fill-color);\n",
              "      border-top-color: var(--fill-color);\n",
              "    }\n",
              "    60% {\n",
              "      border-color: transparent;\n",
              "      border-right-color: var(--fill-color);\n",
              "    }\n",
              "    80% {\n",
              "      border-color: transparent;\n",
              "      border-right-color: var(--fill-color);\n",
              "      border-bottom-color: var(--fill-color);\n",
              "    }\n",
              "    90% {\n",
              "      border-color: transparent;\n",
              "      border-bottom-color: var(--fill-color);\n",
              "    }\n",
              "  }\n",
              "</style>\n",
              "\n",
              "      <script>\n",
              "        async function quickchart(key) {\n",
              "          const quickchartButtonEl =\n",
              "            document.querySelector('#' + key + ' button');\n",
              "          quickchartButtonEl.disabled = true;  // To prevent multiple clicks.\n",
              "          quickchartButtonEl.classList.add('colab-df-spinner');\n",
              "          try {\n",
              "            const charts = await google.colab.kernel.invokeFunction(\n",
              "                'suggestCharts', [key], {});\n",
              "          } catch (error) {\n",
              "            console.error('Error during call to suggestCharts:', error);\n",
              "          }\n",
              "          quickchartButtonEl.classList.remove('colab-df-spinner');\n",
              "          quickchartButtonEl.classList.add('colab-df-quickchart-complete');\n",
              "        }\n",
              "        (() => {\n",
              "          let quickchartButtonEl =\n",
              "            document.querySelector('#df-c22e7819-fca4-4c71-88c6-ab56c80facd9 button');\n",
              "          quickchartButtonEl.style.display =\n",
              "            google.colab.kernel.accessAllowed ? 'block' : 'none';\n",
              "        })();\n",
              "      </script>\n",
              "    </div>\n",
              "\n",
              "  <div id=\"id_65e5946c-018e-4947-a17e-085b1e5c0610\">\n",
              "    <style>\n",
              "      .colab-df-generate {\n",
              "        background-color: #E8F0FE;\n",
              "        border: none;\n",
              "        border-radius: 50%;\n",
              "        cursor: pointer;\n",
              "        display: none;\n",
              "        fill: #1967D2;\n",
              "        height: 32px;\n",
              "        padding: 0 0 0 0;\n",
              "        width: 32px;\n",
              "      }\n",
              "\n",
              "      .colab-df-generate:hover {\n",
              "        background-color: #E2EBFA;\n",
              "        box-shadow: 0px 1px 2px rgba(60, 64, 67, 0.3), 0px 1px 3px 1px rgba(60, 64, 67, 0.15);\n",
              "        fill: #174EA6;\n",
              "      }\n",
              "\n",
              "      [theme=dark] .colab-df-generate {\n",
              "        background-color: #3B4455;\n",
              "        fill: #D2E3FC;\n",
              "      }\n",
              "\n",
              "      [theme=dark] .colab-df-generate:hover {\n",
              "        background-color: #434B5C;\n",
              "        box-shadow: 0px 1px 3px 1px rgba(0, 0, 0, 0.15);\n",
              "        filter: drop-shadow(0px 1px 2px rgba(0, 0, 0, 0.3));\n",
              "        fill: #FFFFFF;\n",
              "      }\n",
              "    </style>\n",
              "    <button class=\"colab-df-generate\" onclick=\"generateWithVariable('df')\"\n",
              "            title=\"Generate code using this dataframe.\"\n",
              "            style=\"display:none;\">\n",
              "\n",
              "  <svg xmlns=\"http://www.w3.org/2000/svg\" height=\"24px\"viewBox=\"0 0 24 24\"\n",
              "       width=\"24px\">\n",
              "    <path d=\"M7,19H8.4L18.45,9,17,7.55,7,17.6ZM5,21V16.75L18.45,3.32a2,2,0,0,1,2.83,0l1.4,1.43a1.91,1.91,0,0,1,.58,1.4,1.91,1.91,0,0,1-.58,1.4L9.25,21ZM18.45,9,17,7.55Zm-12,3A5.31,5.31,0,0,0,4.9,8.1,5.31,5.31,0,0,0,1,6.5,5.31,5.31,0,0,0,4.9,4.9,5.31,5.31,0,0,0,6.5,1,5.31,5.31,0,0,0,8.1,4.9,5.31,5.31,0,0,0,12,6.5,5.46,5.46,0,0,0,6.5,12Z\"/>\n",
              "  </svg>\n",
              "    </button>\n",
              "    <script>\n",
              "      (() => {\n",
              "      const buttonEl =\n",
              "        document.querySelector('#id_65e5946c-018e-4947-a17e-085b1e5c0610 button.colab-df-generate');\n",
              "      buttonEl.style.display =\n",
              "        google.colab.kernel.accessAllowed ? 'block' : 'none';\n",
              "\n",
              "      buttonEl.onclick = () => {\n",
              "        google.colab.notebook.generateWithVariable('df');\n",
              "      }\n",
              "      })();\n",
              "    </script>\n",
              "  </div>\n",
              "\n",
              "    </div>\n",
              "  </div>\n"
            ],
            "application/vnd.google.colaboratory.intrinsic+json": {
              "type": "dataframe",
              "variable_name": "df",
              "summary": "{\n  \"name\": \"df\",\n  \"rows\": 5,\n  \"fields\": [\n    {\n      \"column\": \"title\",\n      \"properties\": {\n        \"dtype\": \"string\",\n        \"num_unique_values\": 5,\n        \"samples\": [\n          \"Machine Learning Intro\",\n          \"Web Development 101\",\n          \"Data Science Overview\"\n        ],\n        \"semantic_type\": \"\",\n        \"description\": \"\"\n      }\n    },\n    {\n      \"column\": \"text\",\n      \"properties\": {\n        \"dtype\": \"string\",\n        \"num_unique_values\": 5,\n        \"samples\": [\n          \"Machine learning allows computers to learn from data.\",\n          \"Web development includes building websites and web apps.\",\n          \"Data science involves analyzing and interpreting data.\"\n        ],\n        \"semantic_type\": \"\",\n        \"description\": \"\"\n      }\n    }\n  ]\n}"
            }
          },
          "metadata": {},
          "execution_count": 71
        }
      ],
      "source": [
        "import pandas as pd\n",
        "\n",
        "# Sample articles data (you can replace this with reading a CSV)\n",
        "data = {\n",
        "    \"title\": [\"Python Basics\", \"Machine Learning Intro\", \"Data Science Overview\", \"Deep Learning Guide\", \"Web Development 101\"],\n",
        "    \"text\": [\n",
        "        \"Python is a programming language.\",\n",
        "        \"Machine learning allows computers to learn from data.\",\n",
        "        \"Data science involves analyzing and interpreting data.\",\n",
        "        \"Deep learning uses neural networks to model complex patterns.\",\n",
        "        \"Web development includes building websites and web apps.\"\n",
        "    ]\n",
        "}\n",
        "df = pd.DataFrame(data)\n",
        "df\n"
      ]
    },
    {
      "cell_type": "code",
      "source": [
        "from sklearn.feature_extraction.text import TfidfVectorizer\n",
        "\n",
        "# Turn article text into numbers\n",
        "vectorizer = TfidfVectorizer(stop_words=\"english\")\n",
        "all_words = vectorizer.fit_transform(df[\"text\"])\n",
        "print(vectorizer.get_feature_names_out())"
      ],
      "metadata": {
        "colab": {
          "base_uri": "https://localhost:8080/"
        },
        "id": "FOSxAdAyYoRH",
        "outputId": "848812a5-4db5-4cc7-943a-c332e86c8cf3"
      },
      "execution_count": 72,
      "outputs": [
        {
          "output_type": "stream",
          "name": "stdout",
          "text": [
            "['allows' 'analyzing' 'apps' 'building' 'complex' 'computers' 'data'\n",
            " 'deep' 'development' 'includes' 'interpreting' 'involves' 'language'\n",
            " 'learn' 'learning' 'machine' 'model' 'networks' 'neural' 'patterns'\n",
            " 'programming' 'python' 'science' 'uses' 'web' 'websites']\n"
          ]
        }
      ]
    },
    {
      "cell_type": "code",
      "source": [
        "print(all_words)"
      ],
      "metadata": {
        "colab": {
          "base_uri": "https://localhost:8080/"
        },
        "id": "wVljEdKUm80h",
        "outputId": "1d8ef140-3779-4128-de5c-baa7494f27f8"
      },
      "execution_count": 73,
      "outputs": [
        {
          "output_type": "stream",
          "name": "stdout",
          "text": [
            "<Compressed Sparse Row sparse matrix of dtype 'float64'\n",
            "\twith 28 stored elements and shape (5, 26)>\n",
            "  Coords\tValues\n",
            "  (0, 21)\t0.5773502691896258\n",
            "  (0, 20)\t0.5773502691896258\n",
            "  (0, 12)\t0.5773502691896258\n",
            "  (1, 15)\t0.43429718303084847\n",
            "  (1, 14)\t0.3503882327118585\n",
            "  (1, 0)\t0.43429718303084847\n",
            "  (1, 5)\t0.43429718303084847\n",
            "  (1, 13)\t0.43429718303084847\n",
            "  (1, 6)\t0.3503882327118585\n",
            "  (2, 6)\t0.6279137616509933\n",
            "  (2, 22)\t0.38914146140230915\n",
            "  (2, 11)\t0.38914146140230915\n",
            "  (2, 1)\t0.38914146140230915\n",
            "  (2, 10)\t0.38914146140230915\n",
            "  (3, 14)\t0.2916794154657719\n",
            "  (3, 7)\t0.36152911730069653\n",
            "  (3, 23)\t0.36152911730069653\n",
            "  (3, 18)\t0.36152911730069653\n",
            "  (3, 17)\t0.36152911730069653\n",
            "  (3, 16)\t0.36152911730069653\n",
            "  (3, 4)\t0.36152911730069653\n",
            "  (3, 19)\t0.36152911730069653\n",
            "  (4, 24)\t0.6666666666666666\n",
            "  (4, 8)\t0.3333333333333333\n",
            "  (4, 9)\t0.3333333333333333\n",
            "  (4, 3)\t0.3333333333333333\n",
            "  (4, 25)\t0.3333333333333333\n",
            "  (4, 2)\t0.3333333333333333\n"
          ]
        }
      ]
    },
    {
      "cell_type": "code",
      "source": [
        "documents = all_words.toarray()"
      ],
      "metadata": {
        "id": "Vcla9_slmrET"
      },
      "execution_count": 74,
      "outputs": []
    },
    {
      "cell_type": "code",
      "source": [
        "print(documents[0])"
      ],
      "metadata": {
        "colab": {
          "base_uri": "https://localhost:8080/"
        },
        "id": "6zZNJwZtnGMi",
        "outputId": "6db286cf-af6c-4f32-bdc2-e56a509479b4"
      },
      "execution_count": 75,
      "outputs": [
        {
          "output_type": "stream",
          "name": "stdout",
          "text": [
            "[0.         0.         0.         0.         0.         0.\n",
            " 0.         0.         0.         0.         0.         0.\n",
            " 0.57735027 0.         0.         0.         0.         0.\n",
            " 0.         0.         0.57735027 0.57735027 0.         0.\n",
            " 0.         0.        ]\n"
          ]
        }
      ]
    },
    {
      "cell_type": "code",
      "source": [
        "# Python is a programming language.  --> document 0\n",
        "#'python', 'programming' 'language' --> after preprocessing the document\n",
        "\n",
        "Explanation = \"\"\"\n",
        "Word counts:\n",
        "python- 1\n",
        "programming- 1\n",
        "language- 1\n",
        "Total words (after ignoring stop words): 3\n",
        "\n",
        "  TF(python) = word/total = 1/3\n",
        "  TF(programming) = word/total = 1/3\n",
        "  TF(language) = word/total = 1/3\n",
        "\n",
        "IDF(word)=log( N/ {1+Number of documents containing word} )\n",
        "        where N = \"Total No of Documents\"\n",
        "IDF(python) =\tlog(5/(1+1))\n",
        "            = log(2.5)\n",
        "            ≈ 0.9163\n",
        "IDF(programmming) ≈ 0.9163\n",
        "​IDF(language) ≈ 0.9163\n",
        "\n",
        "TF-IDF = TF * IDF\n",
        "  TF-IDF(python) = 1/3 * 0.9163 ≈ 0.3054\n",
        "  TF-IDF(programming) = 1/3 * 0.9163 ≈ 0.3054\n",
        "  TF-IDF(language) = 1/3 * 0.9163 ≈ 0.3054\n",
        "\n",
        "# Normalize the scores using L2 norm\n",
        "TF-IDF(python) = 0.529/sqrt{ (0.3054^2+0.3054^2+0.3054^2) }\n",
        "               = 0.529/0.3054\n",
        "               ≈ 0.577\n",
        "​TF-IDF(programming) ≈ 0.577\n",
        "​TF-IDF(language) ≈ 0.577\n",
        "\n",
        "# NOTE: TF_IDF = -ve means that the term is very common across the corpus\n",
        "— it appears in most documents.\n",
        "This means the word is not helpful for distinguishing between documents.\n",
        "Some implementations clip negative IDF values to zero to avoid negative weights.\n",
        "\n",
        "\"\"\""
      ],
      "metadata": {
        "id": "6uwFmEmWY7iE"
      },
      "execution_count": 76,
      "outputs": []
    },
    {
      "cell_type": "code",
      "source": [
        "from sklearn.metrics.pairwise import cosine_similarity\n",
        "# Calculate similarity between all articles\n",
        "similarity_matrix = cosine_similarity(documents)"
      ],
      "metadata": {
        "id": "w9PJJNRRZCOW"
      },
      "execution_count": 77,
      "outputs": []
    },
    {
      "cell_type": "code",
      "source": [
        "print(similarity_matrix)\n",
        "# This is a 5x5 similarity matrix comparing 5 documents against each other."
      ],
      "metadata": {
        "colab": {
          "base_uri": "https://localhost:8080/"
        },
        "id": "M7r4tljoaZOQ",
        "outputId": "f7d3bff2-ea2a-4c36-d98e-90689ae7fde8"
      },
      "execution_count": 78,
      "outputs": [
        {
          "output_type": "stream",
          "name": "stdout",
          "text": [
            "[[1.         0.         0.         0.         0.        ]\n",
            " [0.         1.         0.22001359 0.10220103 0.        ]\n",
            " [0.         0.22001359 1.         0.         0.        ]\n",
            " [0.         0.10220103 0.         1.         0.        ]\n",
            " [0.         0.         0.         0.         1.        ]]\n"
          ]
        }
      ]
    },
    {
      "cell_type": "code",
      "source": [
        "print(documents[0], '\\n\\n', documents[1])"
      ],
      "metadata": {
        "colab": {
          "base_uri": "https://localhost:8080/"
        },
        "id": "l0ECaurgmZD6",
        "outputId": "dc1effe3-2aee-4c9f-a4be-7a3a243c3b1e"
      },
      "execution_count": 79,
      "outputs": [
        {
          "output_type": "stream",
          "name": "stdout",
          "text": [
            "[0.         0.         0.         0.         0.         0.\n",
            " 0.         0.         0.         0.         0.         0.\n",
            " 0.57735027 0.         0.         0.         0.         0.\n",
            " 0.         0.         0.57735027 0.57735027 0.         0.\n",
            " 0.         0.        ] \n",
            "\n",
            " [0.43429718 0.         0.         0.         0.         0.43429718\n",
            " 0.35038823 0.         0.         0.         0.         0.\n",
            " 0.         0.43429718 0.35038823 0.43429718 0.         0.\n",
            " 0.         0.         0.         0.         0.         0.\n",
            " 0.         0.        ]\n"
          ]
        }
      ]
    },
    {
      "cell_type": "code",
      "source": [
        "Explanation_for_Similarity_Matrix = \"\"\"\n",
        "documents[0] vector = [a1,a2,a3,...,an]\n",
        "documents[1] vector = [b1,b2,b3,...,bn]\n",
        "documents[2] vector = [c1,c2,c3,...,cn]\n",
        "\n",
        "cosθ(0,1) = A⋅B / {∥A∥.∥B∥}\n",
        "     = 0\n",
        "cosθ(1,2) = B⋅C / {∥B∥.∥C∥}\n",
        "     = 0.22001359\n",
        "\n",
        "# Values range from 0 to 1\n",
        "\n",
        "# Just for Rememberance purpose, think of it like a correlation matrix\n",
        "\"\"\""
      ],
      "metadata": {
        "id": "ci5xrR36jpLZ"
      },
      "execution_count": 80,
      "outputs": []
    },
    {
      "cell_type": "code",
      "source": [
        "# Pick an article index\n",
        "document_id = int(input(\"Enter the document index from 0 to 4 : \"))"
      ],
      "metadata": {
        "colab": {
          "base_uri": "https://localhost:8080/"
        },
        "id": "rAE_1N9hvuKJ",
        "outputId": "7d7e88da-b2b9-4714-db62-c8f3c1edfb1d"
      },
      "execution_count": 81,
      "outputs": [
        {
          "name": "stdout",
          "output_type": "stream",
          "text": [
            "Enter the document index from 0 to 4 : 1\n"
          ]
        }
      ]
    },
    {
      "cell_type": "code",
      "source": [
        "# Print the selected article title and text\n",
        "print(\"You selected:\", df.loc[document_id, \"title\"])\n",
        "print(\"Article text:\", df.loc[document_id, \"text\"])\n",
        "# df.loc[label, column_name] --> df.loc[index, column]"
      ],
      "metadata": {
        "colab": {
          "base_uri": "https://localhost:8080/"
        },
        "id": "8Yg88MdzwUgF",
        "outputId": "a736fb52-6dd9-4b3d-fcda-b00e464dc26b"
      },
      "execution_count": 82,
      "outputs": [
        {
          "output_type": "stream",
          "name": "stdout",
          "text": [
            "You selected: Machine Learning Intro\n",
            "Article text: Machine learning allows computers to learn from data.\n"
          ]
        }
      ]
    },
    {
      "cell_type": "code",
      "source": [
        "print(similarity_matrix[document_id])"
      ],
      "metadata": {
        "colab": {
          "base_uri": "https://localhost:8080/"
        },
        "id": "ckXvlWSEwqbP",
        "outputId": "81ce201a-2f12-4197-ee86-0804ea214419"
      },
      "execution_count": 83,
      "outputs": [
        {
          "output_type": "stream",
          "name": "stdout",
          "text": [
            "[0.         1.         0.22001359 0.10220103 0.        ]\n"
          ]
        }
      ]
    },
    {
      "cell_type": "code",
      "source": [
        "# Get similarity scores for this article with all articles\n",
        "scores = list(enumerate(similarity_matrix[document_id]))\n",
        "print(scores)"
      ],
      "metadata": {
        "colab": {
          "base_uri": "https://localhost:8080/"
        },
        "id": "NDPAEaTHwhVO",
        "outputId": "3472f270-2bd8-4a1d-a9e0-101d016d393a"
      },
      "execution_count": 84,
      "outputs": [
        {
          "output_type": "stream",
          "name": "stdout",
          "text": [
            "[(0, np.float64(0.0)), (1, np.float64(1.0000000000000002)), (2, np.float64(0.22001359324034672)), (3, np.float64(0.10220103490347976)), (4, np.float64(0.0))]\n"
          ]
        }
      ]
    },
    {
      "cell_type": "code",
      "source": [
        "# Sort the scores by similarity, highest first\n",
        "sorted_scores = sorted(scores, key=lambda x: x[1], reverse=True)\n",
        "print(sorted_scores)\n",
        "\n",
        "# Take each tuple x, and use its second element (x[1]) as the sort key\n",
        "# Otherwise, by default sort happens by using x[0] as key"
      ],
      "metadata": {
        "colab": {
          "base_uri": "https://localhost:8080/"
        },
        "id": "hh9RJb_Sw00A",
        "outputId": "c766326f-55cf-4d31-ce13-639ef441e948"
      },
      "execution_count": 85,
      "outputs": [
        {
          "output_type": "stream",
          "name": "stdout",
          "text": [
            "[(1, np.float64(1.0000000000000002)), (2, np.float64(0.22001359324034672)), (3, np.float64(0.10220103490347976)), (0, np.float64(0.0)), (4, np.float64(0.0))]\n"
          ]
        }
      ]
    },
    {
      "cell_type": "code",
      "source": [
        "# Ignore the first one (the article itself), get top 2 recommended article indices\n",
        "recommended_indices = [i for i, score in sorted_scores[1:3]]"
      ],
      "metadata": {
        "id": "Kpir3dxAxCHp"
      },
      "execution_count": 86,
      "outputs": []
    },
    {
      "cell_type": "code",
      "source": [
        "print(\"Recommended articles:\")\n",
        "for id in recommended_indices:\n",
        "    print(df.loc[id, \"title\"])"
      ],
      "metadata": {
        "colab": {
          "base_uri": "https://localhost:8080/"
        },
        "id": "giD5AZ2pxv7H",
        "outputId": "dbb0ffbd-38f1-4d17-f419-c6655ac2c5e0"
      },
      "execution_count": 87,
      "outputs": [
        {
          "output_type": "stream",
          "name": "stdout",
          "text": [
            "Recommended articles:\n",
            "Data Science Overview\n",
            "Deep Learning Guide\n"
          ]
        }
      ]
    }
  ]
}